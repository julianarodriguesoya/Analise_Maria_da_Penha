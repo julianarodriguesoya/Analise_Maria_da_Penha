{
 "cells": [
  {
   "cell_type": "markdown",
   "id": "66f5dba2",
   "metadata": {},
   "source": [
    "# ANÁLISE DAS OCORRÊNCIAS DA LEI MARIA DA PENHA NA ÁREA DE SEGURANÇA  INTEGRADA-19 NO PERÍODO DE 2019 A 2022\n"
   ]
  },
  {
   "cell_type": "markdown",
   "id": "46ac4aaa",
   "metadata": {},
   "source": [
    "# Introdução\n",
    "<h2> *Áreas Integradas de Segurança – AIS<h2>\n",
    "<h3> AIS 19 corresponde aos seguintes municípios:\n",
    " Abaiara, Altaneira, Antonina do Norte, Araripe, Assaré, Aurora, Barbalha, Barro, Brejo Santo, Campos Sales, Caririaçu, Crato, Farias Brito, Jardim, Jati, Juazeiro do Norte, Mauriti, Milagres, Missão Velha, Nova Olinda, Penaforte, Porteiras, Potengi, Salitre e Santana do Cariri.<h3>"
   ]
  },
  {
   "cell_type": "markdown",
   "id": "76ea4246",
   "metadata": {},
   "source": [
    "# 1.Carregando as bibliotecas"
   ]
  },
  {
   "cell_type": "code",
   "execution_count": 1,
   "id": "33c64d7c",
   "metadata": {},
   "outputs": [],
   "source": [
    "#importando as bibliotecas\n",
    "import numpy as np\n",
    "import matplotlib.pyplot as plt\n",
    "import pandas as pd\n",
    "import seaborn as sns\n",
    "import statsmodels as sm\n",
    "plt.style.use ('ggplot')"
   ]
  },
  {
   "cell_type": "markdown",
   "id": "d35e1c67",
   "metadata": {},
   "source": [
    "# 2. Carregando Dataset"
   ]
  },
  {
   "cell_type": "code",
   "execution_count": 4,
   "id": "de0c6707",
   "metadata": {},
   "outputs": [],
   "source": [
    "#lendo o arquivo csv\n",
    "df= pd.read_csv(\"PlanilhaUnificadaAIS19.csv\", encoding=\"utf-8\")"
   ]
  },
  {
   "cell_type": "code",
   "execution_count": 5,
   "id": "f724449a",
   "metadata": {},
   "outputs": [
    {
     "data": {
      "text/html": [
       "<div>\n",
       "<style scoped>\n",
       "    .dataframe tbody tr th:only-of-type {\n",
       "        vertical-align: middle;\n",
       "    }\n",
       "\n",
       "    .dataframe tbody tr th {\n",
       "        vertical-align: top;\n",
       "    }\n",
       "\n",
       "    .dataframe thead th {\n",
       "        text-align: right;\n",
       "    }\n",
       "</style>\n",
       "<table border=\"1\" class=\"dataframe\">\n",
       "  <thead>\n",
       "    <tr style=\"text-align: right;\">\n",
       "      <th></th>\n",
       "      <th>AIS</th>\n",
       "      <th>Data</th>\n",
       "      <th>Hora</th>\n",
       "      <th>Dia da Semana</th>\n",
       "      <th>Gênero</th>\n",
       "      <th>Idade da Vítima</th>\n",
       "      <th>Escolaridade da Vítima</th>\n",
       "      <th>Raça da Vítima</th>\n",
       "    </tr>\n",
       "  </thead>\n",
       "  <tbody>\n",
       "    <tr>\n",
       "      <th>0</th>\n",
       "      <td>AIS 19</td>\n",
       "      <td>01/01/19</td>\n",
       "      <td>01:00:00</td>\n",
       "      <td>Terça</td>\n",
       "      <td>Feminino</td>\n",
       "      <td>22</td>\n",
       "      <td>Ensino Médio Incompleto</td>\n",
       "      <td>Parda</td>\n",
       "    </tr>\n",
       "    <tr>\n",
       "      <th>1</th>\n",
       "      <td>AIS 19</td>\n",
       "      <td>01/01/19</td>\n",
       "      <td>02:00:00</td>\n",
       "      <td>Terça</td>\n",
       "      <td>Feminino</td>\n",
       "      <td>36</td>\n",
       "      <td>Ensino Médio Completo</td>\n",
       "      <td>Branca</td>\n",
       "    </tr>\n",
       "    <tr>\n",
       "      <th>2</th>\n",
       "      <td>AIS 19</td>\n",
       "      <td>01/01/19</td>\n",
       "      <td>04:00:00</td>\n",
       "      <td>Terça</td>\n",
       "      <td>Feminino</td>\n",
       "      <td>33</td>\n",
       "      <td>Alfabetizado</td>\n",
       "      <td>Não Informada</td>\n",
       "    </tr>\n",
       "    <tr>\n",
       "      <th>3</th>\n",
       "      <td>AIS 19</td>\n",
       "      <td>01/01/19</td>\n",
       "      <td>10:30:00</td>\n",
       "      <td>Terça</td>\n",
       "      <td>Feminino</td>\n",
       "      <td>23</td>\n",
       "      <td>Alfabetizado</td>\n",
       "      <td>Não Informada</td>\n",
       "    </tr>\n",
       "    <tr>\n",
       "      <th>4</th>\n",
       "      <td>AIS 19</td>\n",
       "      <td>01/01/19</td>\n",
       "      <td>11:20:00</td>\n",
       "      <td>Terça</td>\n",
       "      <td>Feminino</td>\n",
       "      <td>89</td>\n",
       "      <td>Alfabetizado</td>\n",
       "      <td>Não Informada</td>\n",
       "    </tr>\n",
       "  </tbody>\n",
       "</table>\n",
       "</div>"
      ],
      "text/plain": [
       "     AIS       Data      Hora Dia da Semana    Gênero Idade da Vítima  \\\n",
       "0  AIS 19  01/01/19  01:00:00         Terça  Feminino              22   \n",
       "1  AIS 19  01/01/19  02:00:00         Terça  Feminino              36   \n",
       "2  AIS 19  01/01/19  04:00:00         Terça  Feminino              33   \n",
       "3  AIS 19  01/01/19  10:30:00         Terça  Feminino              23   \n",
       "4  AIS 19  01/01/19  11:20:00         Terça  Feminino              89   \n",
       "\n",
       "    Escolaridade da Vítima Raça da Vítima  \n",
       "0  Ensino Médio Incompleto          Parda  \n",
       "1    Ensino Médio Completo         Branca  \n",
       "2             Alfabetizado  Não Informada  \n",
       "3             Alfabetizado  Não Informada  \n",
       "4             Alfabetizado  Não Informada  "
      ]
     },
     "execution_count": 5,
     "metadata": {},
     "output_type": "execute_result"
    }
   ],
   "source": [
    "df.head() #para visualizar do dataframe "
   ]
  },
  {
   "cell_type": "code",
   "execution_count": 6,
   "id": "95ba2f6b",
   "metadata": {},
   "outputs": [
    {
     "name": "stdout",
     "output_type": "stream",
     "text": [
      "<class 'pandas.core.frame.DataFrame'>\n",
      "RangeIndex: 11622 entries, 0 to 11621\n",
      "Data columns (total 8 columns):\n",
      " #   Column                  Non-Null Count  Dtype \n",
      "---  ------                  --------------  ----- \n",
      " 0   AIS                     11622 non-null  object\n",
      " 1   Data                    11622 non-null  object\n",
      " 2   Hora                    11622 non-null  object\n",
      " 3   Dia da Semana           11622 non-null  object\n",
      " 4   Gênero                  11622 non-null  object\n",
      " 5   Idade da Vítima         11622 non-null  object\n",
      " 6   Escolaridade da Vítima  11622 non-null  object\n",
      " 7   Raça da Vítima          11622 non-null  object\n",
      "dtypes: object(8)\n",
      "memory usage: 726.5+ KB\n"
     ]
    }
   ],
   "source": [
    "df.info() #para obter informações do dataframe\n"
   ]
  },
  {
   "cell_type": "code",
   "execution_count": 7,
   "id": "afa3f16b",
   "metadata": {},
   "outputs": [
    {
     "data": {
      "text/html": [
       "<div>\n",
       "<style scoped>\n",
       "    .dataframe tbody tr th:only-of-type {\n",
       "        vertical-align: middle;\n",
       "    }\n",
       "\n",
       "    .dataframe tbody tr th {\n",
       "        vertical-align: top;\n",
       "    }\n",
       "\n",
       "    .dataframe thead th {\n",
       "        text-align: right;\n",
       "    }\n",
       "</style>\n",
       "<table border=\"1\" class=\"dataframe\">\n",
       "  <thead>\n",
       "    <tr style=\"text-align: right;\">\n",
       "      <th></th>\n",
       "      <th>AIS</th>\n",
       "      <th>Data</th>\n",
       "      <th>Hora</th>\n",
       "      <th>Dia da Semana</th>\n",
       "      <th>Gênero</th>\n",
       "      <th>Idade da Vítima</th>\n",
       "      <th>Escolaridade da Vítima</th>\n",
       "      <th>Raça da Vítima</th>\n",
       "    </tr>\n",
       "  </thead>\n",
       "  <tbody>\n",
       "    <tr>\n",
       "      <th>count</th>\n",
       "      <td>11622</td>\n",
       "      <td>11622</td>\n",
       "      <td>11622</td>\n",
       "      <td>11622</td>\n",
       "      <td>11622</td>\n",
       "      <td>11622</td>\n",
       "      <td>11622</td>\n",
       "      <td>11622</td>\n",
       "    </tr>\n",
       "    <tr>\n",
       "      <th>unique</th>\n",
       "      <td>1</td>\n",
       "      <td>1459</td>\n",
       "      <td>557</td>\n",
       "      <td>7</td>\n",
       "      <td>2</td>\n",
       "      <td>95</td>\n",
       "      <td>9</td>\n",
       "      <td>6</td>\n",
       "    </tr>\n",
       "    <tr>\n",
       "      <th>top</th>\n",
       "      <td>AIS 19</td>\n",
       "      <td>17/01/21</td>\n",
       "      <td>20:00:00</td>\n",
       "      <td>Domingo</td>\n",
       "      <td>Feminino</td>\n",
       "      <td>30</td>\n",
       "      <td>Alfabetizado</td>\n",
       "      <td>Não Informada</td>\n",
       "    </tr>\n",
       "    <tr>\n",
       "      <th>freq</th>\n",
       "      <td>11622</td>\n",
       "      <td>22</td>\n",
       "      <td>576</td>\n",
       "      <td>2407</td>\n",
       "      <td>11621</td>\n",
       "      <td>396</td>\n",
       "      <td>2540</td>\n",
       "      <td>6755</td>\n",
       "    </tr>\n",
       "  </tbody>\n",
       "</table>\n",
       "</div>"
      ],
      "text/plain": [
       "          AIS       Data      Hora Dia da Semana    Gênero Idade da Vítima  \\\n",
       "count    11622     11622     11622         11622     11622           11622   \n",
       "unique       1      1459       557             7         2              95   \n",
       "top     AIS 19  17/01/21  20:00:00       Domingo  Feminino              30   \n",
       "freq     11622        22       576          2407     11621             396   \n",
       "\n",
       "       Escolaridade da Vítima Raça da Vítima  \n",
       "count                   11622          11622  \n",
       "unique                      9              6  \n",
       "top              Alfabetizado  Não Informada  \n",
       "freq                     2540           6755  "
      ]
     },
     "execution_count": 7,
     "metadata": {},
     "output_type": "execute_result"
    }
   ],
   "source": [
    "df.describe() #para ver um descrição mais especifica dos dados"
   ]
  },
  {
   "cell_type": "markdown",
   "id": "b959f3e2",
   "metadata": {},
   "source": [
    "# 3.Limpeza e preparação dos Dados"
   ]
  },
  {
   "cell_type": "code",
   "execution_count": 8,
   "id": "d2090567",
   "metadata": {},
   "outputs": [
    {
     "data": {
      "text/plain": [
       "False"
      ]
     },
     "execution_count": 8,
     "metadata": {},
     "output_type": "execute_result"
    }
   ],
   "source": [
    "\n",
    "# Verificando se há dados ausentes\n",
    "\n",
    "pd.isnull(\"PlanilhaUnificadaAIS19.csv\")"
   ]
  },
  {
   "cell_type": "code",
   "execution_count": 8,
   "id": "8eab9d7d",
   "metadata": {},
   "outputs": [
    {
     "data": {
      "text/plain": [
       "0        False\n",
       "1        False\n",
       "2        False\n",
       "3        False\n",
       "4        False\n",
       "         ...  \n",
       "79954    False\n",
       "79955    False\n",
       "79956    False\n",
       "79957    False\n",
       "79958    False\n",
       "Length: 79959, dtype: bool"
      ]
     },
     "execution_count": 8,
     "metadata": {},
     "output_type": "execute_result"
    }
   ],
   "source": [
    "#verificando se há dados duplicados\n",
    "# neste caso não há, notamos pelo false, caso houvesse dados duplicados apareceria true para mais de uma coluna\n",
    "df.duplicated()"
   ]
  },
  {
   "cell_type": "code",
   "execution_count": 10,
   "id": "9fb2d1a6",
   "metadata": {},
   "outputs": [],
   "source": [
    "# Detectando e filtrando Valores Discrepantes (outliers)"
   ]
  },
  {
   "cell_type": "markdown",
   "id": "a5fde2aa",
   "metadata": {},
   "source": [
    "# 4. Análise Univariada"
   ]
  },
  {
   "cell_type": "markdown",
   "id": "b24ab763",
   "metadata": {},
   "source": [
    "# 5.Análise Bivariada"
   ]
  },
  {
   "cell_type": "markdown",
   "id": "2dafe9cc",
   "metadata": {},
   "source": [
    "# 6. Gráfico de dispersão"
   ]
  },
  {
   "cell_type": "code",
   "execution_count": null,
   "id": "1f3fa4d7",
   "metadata": {},
   "outputs": [],
   "source": []
  }
 ],
 "metadata": {
  "kernelspec": {
   "display_name": "Python 3",
   "language": "python",
   "name": "python3"
  },
  "language_info": {
   "codemirror_mode": {
    "name": "ipython",
    "version": 3
   },
   "file_extension": ".py",
   "mimetype": "text/x-python",
   "name": "python",
   "nbconvert_exporter": "python",
   "pygments_lexer": "ipython3",
   "version": "3.8.8"
  }
 },
 "nbformat": 4,
 "nbformat_minor": 5
}
