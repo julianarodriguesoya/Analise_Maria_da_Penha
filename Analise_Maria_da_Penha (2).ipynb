{
 "cells": [
  {
   "cell_type": "markdown",
   "id": "66f5dba2",
   "metadata": {},
   "source": [
    "# ANÁLISE DAS OCORRÊNCIAS DA LEI MARIA DA PENHA NA ÁREA DE SEGURANÇA 19 NO PERÍODO DE 2019 A 2022\n"
   ]
  },
  {
   "cell_type": "markdown",
   "id": "46ac4aaa",
   "metadata": {},
   "source": [
    "# Introdução"
   ]
  },
  {
   "cell_type": "markdown",
   "id": "76ea4246",
   "metadata": {},
   "source": [
    "# 1.Carregando as bibliotecas"
   ]
  },
  {
   "cell_type": "code",
   "execution_count": 15,
   "id": "33c64d7c",
   "metadata": {},
   "outputs": [],
   "source": [
    "#importando as bibliotecas\n",
    "import numpy as np\n",
    "import matplotlib.pyplot as plt\n",
    "import pandas as pd\n",
    "import seaborn as sns\n",
    "import statsmodels as sm\n",
    "plt.style.use ('ggplot')"
   ]
  },
  {
   "cell_type": "markdown",
   "id": "d35e1c67",
   "metadata": {},
   "source": [
    "# 2. Carregando Dataset"
   ]
  },
  {
   "cell_type": "code",
   "execution_count": 16,
   "id": "de0c6707",
   "metadata": {},
   "outputs": [],
   "source": [
    "#lendo o arquivo csv\n",
    "df= pd.read_csv(\"PlanilhaUnificadaAIS19.csv\", encoding=\"utf-8\")"
   ]
  },
  {
   "cell_type": "code",
   "execution_count": 17,
   "id": "f724449a",
   "metadata": {},
   "outputs": [
    {
     "data": {
      "text/html": [
       "<div>\n",
       "<style scoped>\n",
       "    .dataframe tbody tr th:only-of-type {\n",
       "        vertical-align: middle;\n",
       "    }\n",
       "\n",
       "    .dataframe tbody tr th {\n",
       "        vertical-align: top;\n",
       "    }\n",
       "\n",
       "    .dataframe thead th {\n",
       "        text-align: right;\n",
       "    }\n",
       "</style>\n",
       "<table border=\"1\" class=\"dataframe\">\n",
       "  <thead>\n",
       "    <tr style=\"text-align: right;\">\n",
       "      <th></th>\n",
       "      <th>AIS</th>\n",
       "      <th>Data</th>\n",
       "      <th>Hora</th>\n",
       "      <th>Dia da Semana</th>\n",
       "      <th>Gênero</th>\n",
       "      <th>Idade da Vítima</th>\n",
       "      <th>Escolaridade da Vítima</th>\n",
       "      <th>Raça da Vítima</th>\n",
       "    </tr>\n",
       "  </thead>\n",
       "  <tbody>\n",
       "    <tr>\n",
       "      <th>0</th>\n",
       "      <td>AIS 19</td>\n",
       "      <td>01/01/19</td>\n",
       "      <td>01:00:00</td>\n",
       "      <td>Terça</td>\n",
       "      <td>Feminino</td>\n",
       "      <td>22</td>\n",
       "      <td>Ensino Médio Incompleto</td>\n",
       "      <td>Parda</td>\n",
       "    </tr>\n",
       "    <tr>\n",
       "      <th>1</th>\n",
       "      <td>AIS 19</td>\n",
       "      <td>01/01/19</td>\n",
       "      <td>02:00:00</td>\n",
       "      <td>Terça</td>\n",
       "      <td>Feminino</td>\n",
       "      <td>36</td>\n",
       "      <td>Ensino Médio Completo</td>\n",
       "      <td>Branca</td>\n",
       "    </tr>\n",
       "    <tr>\n",
       "      <th>2</th>\n",
       "      <td>AIS 19</td>\n",
       "      <td>01/01/19</td>\n",
       "      <td>04:00:00</td>\n",
       "      <td>Terça</td>\n",
       "      <td>Feminino</td>\n",
       "      <td>33</td>\n",
       "      <td>Alfabetizado</td>\n",
       "      <td>Não Informada</td>\n",
       "    </tr>\n",
       "    <tr>\n",
       "      <th>3</th>\n",
       "      <td>AIS 19</td>\n",
       "      <td>01/01/19</td>\n",
       "      <td>10:30:00</td>\n",
       "      <td>Terça</td>\n",
       "      <td>Feminino</td>\n",
       "      <td>23</td>\n",
       "      <td>Alfabetizado</td>\n",
       "      <td>Não Informada</td>\n",
       "    </tr>\n",
       "    <tr>\n",
       "      <th>4</th>\n",
       "      <td>AIS 19</td>\n",
       "      <td>01/01/19</td>\n",
       "      <td>11:20:00</td>\n",
       "      <td>Terça</td>\n",
       "      <td>Feminino</td>\n",
       "      <td>89</td>\n",
       "      <td>Alfabetizado</td>\n",
       "      <td>Não Informada</td>\n",
       "    </tr>\n",
       "  </tbody>\n",
       "</table>\n",
       "</div>"
      ],
      "text/plain": [
       "     AIS       Data      Hora Dia da Semana    Gênero Idade da Vítima  \\\n",
       "0  AIS 19  01/01/19  01:00:00         Terça  Feminino              22   \n",
       "1  AIS 19  01/01/19  02:00:00         Terça  Feminino              36   \n",
       "2  AIS 19  01/01/19  04:00:00         Terça  Feminino              33   \n",
       "3  AIS 19  01/01/19  10:30:00         Terça  Feminino              23   \n",
       "4  AIS 19  01/01/19  11:20:00         Terça  Feminino              89   \n",
       "\n",
       "    Escolaridade da Vítima Raça da Vítima  \n",
       "0  Ensino Médio Incompleto          Parda  \n",
       "1    Ensino Médio Completo         Branca  \n",
       "2             Alfabetizado  Não Informada  \n",
       "3             Alfabetizado  Não Informada  \n",
       "4             Alfabetizado  Não Informada  "
      ]
     },
     "execution_count": 17,
     "metadata": {},
     "output_type": "execute_result"
    }
   ],
   "source": [
    "df.head() #para visualizar do dataframe "
   ]
  },
  {
   "cell_type": "code",
   "execution_count": 18,
   "id": "afa3f16b",
   "metadata": {},
   "outputs": [
    {
     "data": {
      "text/html": [
       "<div>\n",
       "<style scoped>\n",
       "    .dataframe tbody tr th:only-of-type {\n",
       "        vertical-align: middle;\n",
       "    }\n",
       "\n",
       "    .dataframe tbody tr th {\n",
       "        vertical-align: top;\n",
       "    }\n",
       "\n",
       "    .dataframe thead th {\n",
       "        text-align: right;\n",
       "    }\n",
       "</style>\n",
       "<table border=\"1\" class=\"dataframe\">\n",
       "  <thead>\n",
       "    <tr style=\"text-align: right;\">\n",
       "      <th></th>\n",
       "      <th>AIS</th>\n",
       "      <th>Data</th>\n",
       "      <th>Hora</th>\n",
       "      <th>Dia da Semana</th>\n",
       "      <th>Gênero</th>\n",
       "      <th>Idade da Vítima</th>\n",
       "      <th>Escolaridade da Vítima</th>\n",
       "      <th>Raça da Vítima</th>\n",
       "    </tr>\n",
       "  </thead>\n",
       "  <tbody>\n",
       "    <tr>\n",
       "      <th>count</th>\n",
       "      <td>11622</td>\n",
       "      <td>11622</td>\n",
       "      <td>11622</td>\n",
       "      <td>11622</td>\n",
       "      <td>11622</td>\n",
       "      <td>11622</td>\n",
       "      <td>11622</td>\n",
       "      <td>11622</td>\n",
       "    </tr>\n",
       "    <tr>\n",
       "      <th>unique</th>\n",
       "      <td>1</td>\n",
       "      <td>1459</td>\n",
       "      <td>557</td>\n",
       "      <td>7</td>\n",
       "      <td>2</td>\n",
       "      <td>95</td>\n",
       "      <td>9</td>\n",
       "      <td>6</td>\n",
       "    </tr>\n",
       "    <tr>\n",
       "      <th>top</th>\n",
       "      <td>AIS 19</td>\n",
       "      <td>03/02/19</td>\n",
       "      <td>20:00:00</td>\n",
       "      <td>Domingo</td>\n",
       "      <td>Feminino</td>\n",
       "      <td>30</td>\n",
       "      <td>Alfabetizado</td>\n",
       "      <td>Não Informada</td>\n",
       "    </tr>\n",
       "    <tr>\n",
       "      <th>freq</th>\n",
       "      <td>11622</td>\n",
       "      <td>22</td>\n",
       "      <td>576</td>\n",
       "      <td>2407</td>\n",
       "      <td>11621</td>\n",
       "      <td>396</td>\n",
       "      <td>2540</td>\n",
       "      <td>6755</td>\n",
       "    </tr>\n",
       "  </tbody>\n",
       "</table>\n",
       "</div>"
      ],
      "text/plain": [
       "          AIS       Data      Hora Dia da Semana    Gênero Idade da Vítima  \\\n",
       "count    11622     11622     11622         11622     11622           11622   \n",
       "unique       1      1459       557             7         2              95   \n",
       "top     AIS 19  03/02/19  20:00:00       Domingo  Feminino              30   \n",
       "freq     11622        22       576          2407     11621             396   \n",
       "\n",
       "       Escolaridade da Vítima Raça da Vítima  \n",
       "count                   11622          11622  \n",
       "unique                      9              6  \n",
       "top              Alfabetizado  Não Informada  \n",
       "freq                     2540           6755  "
      ]
     },
     "execution_count": 18,
     "metadata": {},
     "output_type": "execute_result"
    }
   ],
   "source": [
    "df.describe() #para ver um descrição mais especifica dos dados"
   ]
  },
  {
   "cell_type": "code",
   "execution_count": 19,
   "id": "95ba2f6b",
   "metadata": {},
   "outputs": [
    {
     "name": "stdout",
     "output_type": "stream",
     "text": [
      "<class 'pandas.core.frame.DataFrame'>\n",
      "RangeIndex: 11622 entries, 0 to 11621\n",
      "Data columns (total 8 columns):\n",
      " #   Column                  Non-Null Count  Dtype \n",
      "---  ------                  --------------  ----- \n",
      " 0   AIS                     11622 non-null  object\n",
      " 1   Data                    11622 non-null  object\n",
      " 2   Hora                    11622 non-null  object\n",
      " 3   Dia da Semana           11622 non-null  object\n",
      " 4   Gênero                  11622 non-null  object\n",
      " 5   Idade da Vítima         11622 non-null  object\n",
      " 6   Escolaridade da Vítima  11622 non-null  object\n",
      " 7   Raça da Vítima          11622 non-null  object\n",
      "dtypes: object(8)\n",
      "memory usage: 726.5+ KB\n"
     ]
    }
   ],
   "source": [
    "df.info() #para obter informações do dataframe\n"
   ]
  },
  {
   "cell_type": "markdown",
   "id": "b959f3e2",
   "metadata": {},
   "source": [
    "# 3.Limpeza e preparação dos Dados"
   ]
  },
  {
   "cell_type": "code",
   "execution_count": 20,
   "id": "d2090567",
   "metadata": {},
   "outputs": [
    {
     "data": {
      "text/plain": [
       "False"
      ]
     },
     "execution_count": 20,
     "metadata": {},
     "output_type": "execute_result"
    }
   ],
   "source": [
    "\n",
    "# Verificando se há dados ausentes\n",
    "\n",
    "pd.isnull(\"PlanilhaUnificadaAIS19.csv\")"
   ]
  },
  {
   "cell_type": "code",
   "execution_count": 21,
   "id": "8eab9d7d",
   "metadata": {},
   "outputs": [
    {
     "data": {
      "text/plain": [
       "0        False\n",
       "1        False\n",
       "2        False\n",
       "3        False\n",
       "4        False\n",
       "         ...  \n",
       "11617    False\n",
       "11618    False\n",
       "11619    False\n",
       "11620    False\n",
       "11621    False\n",
       "Length: 11622, dtype: bool"
      ]
     },
     "execution_count": 21,
     "metadata": {},
     "output_type": "execute_result"
    }
   ],
   "source": [
    "#verificando se há dados duplicados\n",
    "# neste caso não há, notamos pelo false, caso houvesse dados duplicados apareceria true para mais de uma coluna\n",
    "df.duplicated()"
   ]
  },
  {
   "cell_type": "code",
   "execution_count": 22,
   "id": "3739097b",
   "metadata": {},
   "outputs": [
    {
     "name": "stdout",
     "output_type": "stream",
     "text": [
      "<class 'pandas.core.frame.DataFrame'>\n",
      "RangeIndex: 11622 entries, 0 to 11621\n",
      "Data columns (total 8 columns):\n",
      " #   Column                  Non-Null Count  Dtype         \n",
      "---  ------                  --------------  -----         \n",
      " 0   AIS                     11622 non-null  object        \n",
      " 1   Data                    11622 non-null  datetime64[ns]\n",
      " 2   Hora                    11622 non-null  object        \n",
      " 3   Dia da Semana           11622 non-null  object        \n",
      " 4   Gênero                  11622 non-null  object        \n",
      " 5   Idade da Vítima         11622 non-null  object        \n",
      " 6   Escolaridade da Vítima  11622 non-null  object        \n",
      " 7   Raça da Vítima          11622 non-null  object        \n",
      "dtypes: datetime64[ns](1), object(7)\n",
      "memory usage: 726.5+ KB\n"
     ]
    }
   ],
   "source": [
    "# converter a coluna 'Data' para o formato de data e hora\n",
    "df['Data']= pd.to_datetime(df['Data'])\n",
    " \n",
    "# Verifique o formato da coluna 'Data'\n",
    "df.info()"
   ]
  },
  {
   "cell_type": "code",
   "execution_count": 23,
   "id": "9fb2d1a6",
   "metadata": {},
   "outputs": [],
   "source": [
    "# Detectando e filtrando Valores Discrepantes (outliers)"
   ]
  },
  {
   "cell_type": "code",
   "execution_count": 24,
   "id": "0bc7abba",
   "metadata": {},
   "outputs": [
    {
     "name": "stdout",
     "output_type": "stream",
     "text": [
      "<class 'pandas.core.frame.DataFrame'>\n",
      "RangeIndex: 11622 entries, 0 to 11621\n",
      "Data columns (total 8 columns):\n",
      " #   Column                  Non-Null Count  Dtype         \n",
      "---  ------                  --------------  -----         \n",
      " 0   AIS                     11622 non-null  object        \n",
      " 1   Data                    11622 non-null  datetime64[ns]\n",
      " 2   Hora                    11622 non-null  object        \n",
      " 3   Dia da Semana           11622 non-null  object        \n",
      " 4   Gênero                  11622 non-null  object        \n",
      " 5   Idade da Vítima         11622 non-null  object        \n",
      " 6   Escolaridade da Vítima  11622 non-null  object        \n",
      " 7   Raça da Vítima          11622 non-null  object        \n",
      "dtypes: datetime64[ns](1), object(7)\n",
      "memory usage: 726.5+ KB\n"
     ]
    }
   ],
   "source": [
    "# converter a coluna 'Data' para o formato de data e hora\n",
    "df['Data']= pd.to_datetime(df['Data'])\n",
    " \n",
    "# Verifique o formato da coluna 'Data'\n",
    "df.info()"
   ]
  },
  {
   "cell_type": "code",
   "execution_count": 26,
   "id": "d67ed26e",
   "metadata": {},
   "outputs": [
    {
     "ename": "KeyError",
     "evalue": "' Idade da Vítima '",
     "output_type": "error",
     "traceback": [
      "\u001b[1;31m---------------------------------------------------------------------------\u001b[0m",
      "\u001b[1;31mKeyError\u001b[0m                                  Traceback (most recent call last)",
      "\u001b[1;32m~\\anaconda3\\lib\\site-packages\\pandas\\core\\indexes\\base.py\u001b[0m in \u001b[0;36mget_loc\u001b[1;34m(self, key, method, tolerance)\u001b[0m\n\u001b[0;32m   3079\u001b[0m             \u001b[1;32mtry\u001b[0m\u001b[1;33m:\u001b[0m\u001b[1;33m\u001b[0m\u001b[1;33m\u001b[0m\u001b[0m\n\u001b[1;32m-> 3080\u001b[1;33m                 \u001b[1;32mreturn\u001b[0m \u001b[0mself\u001b[0m\u001b[1;33m.\u001b[0m\u001b[0m_engine\u001b[0m\u001b[1;33m.\u001b[0m\u001b[0mget_loc\u001b[0m\u001b[1;33m(\u001b[0m\u001b[0mcasted_key\u001b[0m\u001b[1;33m)\u001b[0m\u001b[1;33m\u001b[0m\u001b[1;33m\u001b[0m\u001b[0m\n\u001b[0m\u001b[0;32m   3081\u001b[0m             \u001b[1;32mexcept\u001b[0m \u001b[0mKeyError\u001b[0m \u001b[1;32mas\u001b[0m \u001b[0merr\u001b[0m\u001b[1;33m:\u001b[0m\u001b[1;33m\u001b[0m\u001b[1;33m\u001b[0m\u001b[0m\n",
      "\u001b[1;32mpandas\\_libs\\index.pyx\u001b[0m in \u001b[0;36mpandas._libs.index.IndexEngine.get_loc\u001b[1;34m()\u001b[0m\n",
      "\u001b[1;32mpandas\\_libs\\index.pyx\u001b[0m in \u001b[0;36mpandas._libs.index.IndexEngine.get_loc\u001b[1;34m()\u001b[0m\n",
      "\u001b[1;32mpandas\\_libs\\hashtable_class_helper.pxi\u001b[0m in \u001b[0;36mpandas._libs.hashtable.PyObjectHashTable.get_item\u001b[1;34m()\u001b[0m\n",
      "\u001b[1;32mpandas\\_libs\\hashtable_class_helper.pxi\u001b[0m in \u001b[0;36mpandas._libs.hashtable.PyObjectHashTable.get_item\u001b[1;34m()\u001b[0m\n",
      "\u001b[1;31mKeyError\u001b[0m: ' Idade da Vítima '",
      "\nThe above exception was the direct cause of the following exception:\n",
      "\u001b[1;31mKeyError\u001b[0m                                  Traceback (most recent call last)",
      "\u001b[1;32m<ipython-input-26-3335228c87d1>\u001b[0m in \u001b[0;36m<module>\u001b[1;34m\u001b[0m\n\u001b[0;32m      1\u001b[0m \u001b[1;31m# converter a coluna 'Idade da Vítima' para o formato string\u001b[0m\u001b[1;33m\u001b[0m\u001b[1;33m\u001b[0m\u001b[1;33m\u001b[0m\u001b[0m\n\u001b[1;32m----> 2\u001b[1;33m \u001b[0mdf\u001b[0m\u001b[1;33m[\u001b[0m\u001b[1;34m' Idade da Vítima '\u001b[0m\u001b[1;33m]\u001b[0m \u001b[1;33m=\u001b[0m \u001b[0mdf\u001b[0m\u001b[1;33m[\u001b[0m\u001b[1;34m' Idade da Vítima '\u001b[0m\u001b[1;33m]\u001b[0m\u001b[1;33m.\u001b[0m \u001b[0mtipo\u001b[0m \u001b[1;33m(\u001b[0m\u001b[0mstr\u001b[0m\u001b[1;33m)\u001b[0m\u001b[1;33m.\u001b[0m \u001b[0mastype\u001b[0m \u001b[1;33m(\u001b[0m\u001b[0mint\u001b[0m\u001b[1;33m)\u001b[0m\u001b[1;33m\u001b[0m\u001b[1;33m\u001b[0m\u001b[0m\n\u001b[0m",
      "\u001b[1;32m~\\anaconda3\\lib\\site-packages\\pandas\\core\\frame.py\u001b[0m in \u001b[0;36m__getitem__\u001b[1;34m(self, key)\u001b[0m\n\u001b[0;32m   3022\u001b[0m             \u001b[1;32mif\u001b[0m \u001b[0mself\u001b[0m\u001b[1;33m.\u001b[0m\u001b[0mcolumns\u001b[0m\u001b[1;33m.\u001b[0m\u001b[0mnlevels\u001b[0m \u001b[1;33m>\u001b[0m \u001b[1;36m1\u001b[0m\u001b[1;33m:\u001b[0m\u001b[1;33m\u001b[0m\u001b[1;33m\u001b[0m\u001b[0m\n\u001b[0;32m   3023\u001b[0m                 \u001b[1;32mreturn\u001b[0m \u001b[0mself\u001b[0m\u001b[1;33m.\u001b[0m\u001b[0m_getitem_multilevel\u001b[0m\u001b[1;33m(\u001b[0m\u001b[0mkey\u001b[0m\u001b[1;33m)\u001b[0m\u001b[1;33m\u001b[0m\u001b[1;33m\u001b[0m\u001b[0m\n\u001b[1;32m-> 3024\u001b[1;33m             \u001b[0mindexer\u001b[0m \u001b[1;33m=\u001b[0m \u001b[0mself\u001b[0m\u001b[1;33m.\u001b[0m\u001b[0mcolumns\u001b[0m\u001b[1;33m.\u001b[0m\u001b[0mget_loc\u001b[0m\u001b[1;33m(\u001b[0m\u001b[0mkey\u001b[0m\u001b[1;33m)\u001b[0m\u001b[1;33m\u001b[0m\u001b[1;33m\u001b[0m\u001b[0m\n\u001b[0m\u001b[0;32m   3025\u001b[0m             \u001b[1;32mif\u001b[0m \u001b[0mis_integer\u001b[0m\u001b[1;33m(\u001b[0m\u001b[0mindexer\u001b[0m\u001b[1;33m)\u001b[0m\u001b[1;33m:\u001b[0m\u001b[1;33m\u001b[0m\u001b[1;33m\u001b[0m\u001b[0m\n\u001b[0;32m   3026\u001b[0m                 \u001b[0mindexer\u001b[0m \u001b[1;33m=\u001b[0m \u001b[1;33m[\u001b[0m\u001b[0mindexer\u001b[0m\u001b[1;33m]\u001b[0m\u001b[1;33m\u001b[0m\u001b[1;33m\u001b[0m\u001b[0m\n",
      "\u001b[1;32m~\\anaconda3\\lib\\site-packages\\pandas\\core\\indexes\\base.py\u001b[0m in \u001b[0;36mget_loc\u001b[1;34m(self, key, method, tolerance)\u001b[0m\n\u001b[0;32m   3080\u001b[0m                 \u001b[1;32mreturn\u001b[0m \u001b[0mself\u001b[0m\u001b[1;33m.\u001b[0m\u001b[0m_engine\u001b[0m\u001b[1;33m.\u001b[0m\u001b[0mget_loc\u001b[0m\u001b[1;33m(\u001b[0m\u001b[0mcasted_key\u001b[0m\u001b[1;33m)\u001b[0m\u001b[1;33m\u001b[0m\u001b[1;33m\u001b[0m\u001b[0m\n\u001b[0;32m   3081\u001b[0m             \u001b[1;32mexcept\u001b[0m \u001b[0mKeyError\u001b[0m \u001b[1;32mas\u001b[0m \u001b[0merr\u001b[0m\u001b[1;33m:\u001b[0m\u001b[1;33m\u001b[0m\u001b[1;33m\u001b[0m\u001b[0m\n\u001b[1;32m-> 3082\u001b[1;33m                 \u001b[1;32mraise\u001b[0m \u001b[0mKeyError\u001b[0m\u001b[1;33m(\u001b[0m\u001b[0mkey\u001b[0m\u001b[1;33m)\u001b[0m \u001b[1;32mfrom\u001b[0m \u001b[0merr\u001b[0m\u001b[1;33m\u001b[0m\u001b[1;33m\u001b[0m\u001b[0m\n\u001b[0m\u001b[0;32m   3083\u001b[0m \u001b[1;33m\u001b[0m\u001b[0m\n\u001b[0;32m   3084\u001b[0m         \u001b[1;32mif\u001b[0m \u001b[0mtolerance\u001b[0m \u001b[1;32mis\u001b[0m \u001b[1;32mnot\u001b[0m \u001b[1;32mNone\u001b[0m\u001b[1;33m:\u001b[0m\u001b[1;33m\u001b[0m\u001b[1;33m\u001b[0m\u001b[0m\n",
      "\u001b[1;31mKeyError\u001b[0m: ' Idade da Vítima '"
     ]
    }
   ],
   "source": [
    "# converter a coluna 'Idade da Vítima' para o formato string\n",
    "df[' Idade da Vítima '] = df[' Idade da Vítima ']. tipo (str). astype (int)"
   ]
  },
  {
   "cell_type": "code",
   "execution_count": 11,
   "id": "9692acdb",
   "metadata": {},
   "outputs": [
    {
     "data": {
      "text/html": [
       "<div>\n",
       "<style scoped>\n",
       "    .dataframe tbody tr th:only-of-type {\n",
       "        vertical-align: middle;\n",
       "    }\n",
       "\n",
       "    .dataframe tbody tr th {\n",
       "        vertical-align: top;\n",
       "    }\n",
       "\n",
       "    .dataframe thead th {\n",
       "        text-align: right;\n",
       "    }\n",
       "</style>\n",
       "<table border=\"1\" class=\"dataframe\">\n",
       "  <thead>\n",
       "    <tr style=\"text-align: right;\">\n",
       "      <th></th>\n",
       "      <th>AIS</th>\n",
       "      <th>Data</th>\n",
       "      <th>Hora</th>\n",
       "      <th>Dia da Semana</th>\n",
       "      <th>Gênero</th>\n",
       "      <th>Idade da Vítima</th>\n",
       "      <th>Escolaridade da Vítima</th>\n",
       "      <th>Raça da Vítima</th>\n",
       "    </tr>\n",
       "  </thead>\n",
       "  <tbody>\n",
       "    <tr>\n",
       "      <th>0</th>\n",
       "      <td>AIS 19</td>\n",
       "      <td>2019-01-01</td>\n",
       "      <td>01:00:00</td>\n",
       "      <td>Terça</td>\n",
       "      <td>Feminino</td>\n",
       "      <td>22</td>\n",
       "      <td>Ensino Médio Incompleto</td>\n",
       "      <td>Parda</td>\n",
       "    </tr>\n",
       "    <tr>\n",
       "      <th>1</th>\n",
       "      <td>AIS 19</td>\n",
       "      <td>2019-01-01</td>\n",
       "      <td>02:00:00</td>\n",
       "      <td>Terça</td>\n",
       "      <td>Feminino</td>\n",
       "      <td>36</td>\n",
       "      <td>Ensino Médio Completo</td>\n",
       "      <td>Branca</td>\n",
       "    </tr>\n",
       "    <tr>\n",
       "      <th>2</th>\n",
       "      <td>AIS 19</td>\n",
       "      <td>2019-01-01</td>\n",
       "      <td>04:00:00</td>\n",
       "      <td>Terça</td>\n",
       "      <td>Feminino</td>\n",
       "      <td>33</td>\n",
       "      <td>Alfabetizado</td>\n",
       "      <td>Não Informada</td>\n",
       "    </tr>\n",
       "    <tr>\n",
       "      <th>3</th>\n",
       "      <td>AIS 19</td>\n",
       "      <td>2019-01-01</td>\n",
       "      <td>10:30:00</td>\n",
       "      <td>Terça</td>\n",
       "      <td>Feminino</td>\n",
       "      <td>23</td>\n",
       "      <td>Alfabetizado</td>\n",
       "      <td>Não Informada</td>\n",
       "    </tr>\n",
       "    <tr>\n",
       "      <th>4</th>\n",
       "      <td>AIS 19</td>\n",
       "      <td>2019-01-01</td>\n",
       "      <td>11:20:00</td>\n",
       "      <td>Terça</td>\n",
       "      <td>Feminino</td>\n",
       "      <td>89</td>\n",
       "      <td>Alfabetizado</td>\n",
       "      <td>Não Informada</td>\n",
       "    </tr>\n",
       "  </tbody>\n",
       "</table>\n",
       "</div>"
      ],
      "text/plain": [
       "     AIS        Data      Hora Dia da Semana    Gênero Idade da Vítima  \\\n",
       "0  AIS 19 2019-01-01  01:00:00         Terça  Feminino              22   \n",
       "1  AIS 19 2019-01-01  02:00:00         Terça  Feminino              36   \n",
       "2  AIS 19 2019-01-01  04:00:00         Terça  Feminino              33   \n",
       "3  AIS 19 2019-01-01  10:30:00         Terça  Feminino              23   \n",
       "4  AIS 19 2019-01-01  11:20:00         Terça  Feminino              89   \n",
       "\n",
       "    Escolaridade da Vítima Raça da Vítima  \n",
       "0  Ensino Médio Incompleto          Parda  \n",
       "1    Ensino Médio Completo         Branca  \n",
       "2             Alfabetizado  Não Informada  \n",
       "3             Alfabetizado  Não Informada  \n",
       "4             Alfabetizado  Não Informada  "
      ]
     },
     "execution_count": 11,
     "metadata": {},
     "output_type": "execute_result"
    }
   ],
   "source": [
    "df.head() # visualizar o dataframe após a alteração do formato da data"
   ]
  },
  {
   "cell_type": "markdown",
   "id": "a5fde2aa",
   "metadata": {},
   "source": [
    "# 4. Análise Univariada"
   ]
  },
  {
   "cell_type": "markdown",
   "id": "b24ab763",
   "metadata": {},
   "source": [
    "# 5.Análise Bivariada"
   ]
  },
  {
   "cell_type": "markdown",
   "id": "2dafe9cc",
   "metadata": {},
   "source": [
    "# 6. Gráfico de dispersão"
   ]
  },
  {
   "cell_type": "code",
   "execution_count": null,
   "id": "1f3fa4d7",
   "metadata": {},
   "outputs": [],
   "source": []
  },
  {
   "cell_type": "code",
   "execution_count": null,
   "id": "0b13e83a",
   "metadata": {},
   "outputs": [],
   "source": []
  },
  {
   "cell_type": "code",
   "execution_count": null,
   "id": "f011d3c5",
   "metadata": {},
   "outputs": [],
   "source": []
  },
  {
   "cell_type": "code",
   "execution_count": null,
   "id": "fd56728d",
   "metadata": {},
   "outputs": [],
   "source": []
  },
  {
   "cell_type": "code",
   "execution_count": null,
   "id": "d86282e4",
   "metadata": {},
   "outputs": [],
   "source": []
  }
 ],
 "metadata": {
  "kernelspec": {
   "display_name": "Python 3",
   "language": "python",
   "name": "python3"
  },
  "language_info": {
   "codemirror_mode": {
    "name": "ipython",
    "version": 3
   },
   "file_extension": ".py",
   "mimetype": "text/x-python",
   "name": "python",
   "nbconvert_exporter": "python",
   "pygments_lexer": "ipython3",
   "version": "3.8.8"
  }
 },
 "nbformat": 4,
 "nbformat_minor": 5
}
